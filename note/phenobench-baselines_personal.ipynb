{
 "cells": [
  {
   "cell_type": "markdown",
   "id": "b8acab3a-08df-41fe-aa93-447182735bf1",
   "metadata": {},
   "source": [
    "# Phenobench Baseline (个人实践)"
   ]
  },
  {
   "cell_type": "markdown",
   "id": "58a532e2-6c3e-45c4-b474-ca8b65aa6e90",
   "metadata": {},
   "source": [
    "## 1. semantic_segmentation"
   ]
  },
  {
   "cell_type": "markdown",
   "id": "c9568706-529b-42ef-ae0a-31979dd10a9c",
   "metadata": {},
   "source": [
    "### 1.1 导入项目"
   ]
  },
  {
   "cell_type": "code",
   "execution_count": 1,
   "id": "b10974b2-751e-4ffe-a09b-139c5c10c421",
   "metadata": {},
   "outputs": [],
   "source": [
    "#第一次运行时执行下面的代码\n",
    "#!git clone https://github.com/PRBonn/phenobench-baselines"
   ]
  },
  {
   "cell_type": "markdown",
   "id": "afee0326-638b-4f61-8f15-1d7b86db4941",
   "metadata": {},
   "source": [
    "### 1.2 配置环境"
   ]
  },
  {
   "cell_type": "markdown",
   "id": "dfb3414e-6c0b-4460-9328-7c01b3593c0a",
   "metadata": {},
   "source": [
    "切换工作目录"
   ]
  },
  {
   "cell_type": "code",
   "execution_count": null,
   "id": "693f68ce-a2c9-441b-9741-49e2f294ac4e",
   "metadata": {},
   "outputs": [],
   "source": [
    "cd phenobench-baselines"
   ]
  },
  {
   "cell_type": "markdown",
   "id": "dccfc80a-3e0d-4069-8d38-92ac3002f2f4",
   "metadata": {},
   "source": [
    "安装依赖包"
   ]
  },
  {
   "cell_type": "code",
   "execution_count": null,
   "id": "9675ba58-ccd6-43ba-b9fd-e1d7d7d188c9",
   "metadata": {},
   "outputs": [],
   "source": [
    "#!conda init\n",
    "conda activate base\n",
    "pip install -r ./setup/requirements.txt\n",
    "pip install setuptools==59.5.0\n",
    "#本base环境中pytorch已经安装好了，无需再安装"
   ]
  },
  {
   "cell_type": "markdown",
   "id": "45e7d475-8c0a-4276-898d-e597984bd2a6",
   "metadata": {},
   "source": [
    "将配置文件中的数据存储路径修改为自己的文件存储路径，此处的路径为：/root/autodl-fs/PhenoBench.首先需要用指令解压之前上传的压缩包"
   ]
  },
  {
   "cell_type": "code",
   "execution_count": null,
   "id": "19050785-b34b-4e5b-abc9-13a22cc2f5c1",
   "metadata": {},
   "outputs": [],
   "source": [
    "cd ../\n",
    "cd autodl-fs\n",
    "!unzip PhenoBench-v110.zip"
   ]
  },
  {
   "cell_type": "code",
   "execution_count": null,
   "id": "74a034ac-30bd-4f78-a51d-3d8f7ecc6146",
   "metadata": {},
   "outputs": [],
   "source": [
    "然后修改yaml中的path_to_dataset为/root/autodl-fs/PhenoBench"
   ]
  },
  {
   "cell_type": "code",
   "execution_count": null,
   "id": "0d7ced17-5dfd-485e-ae6e-38b2a85b164a",
   "metadata": {},
   "outputs": [],
   "source": [
    "另外需要注意的一点时，在第一次运行`train.py`时出现了报错，经检查问题在于/phenobench-baselines/semantic_segmentation/datasets/__init__.py。 修改方式是将 `if dataset_name == 'PDC':`修改为\n",
    "`if dataset_name == 'phenobench'`"
   ]
  },
  {
   "cell_type": "markdown",
   "id": "87d13802-6cdb-43c9-9c2c-5477c81ef7b1",
   "metadata": {},
   "source": [
    "### 1.3 执行训练"
   ]
  },
  {
   "cell_type": "markdown",
   "id": "1bab8321-3858-4bf0-9113-d920ac04f10d",
   "metadata": {},
   "source": [
    "执行如下指令"
   ]
  },
  {
   "cell_type": "code",
   "execution_count": null,
   "id": "f01cf28d-52a6-4264-a384-c7a782254bcb",
   "metadata": {},
   "outputs": [],
   "source": [
    "cd ../\n",
    "cd phenobench-baselines/semantic_segmentation\n",
    "# 这里以ERFNet为例\n",
    "# 下面的<path-to-export-directory>替换成一个放在semantic_segmentation目录下的自己新建的文件夹，用于存储lightning_logs\n",
    "!python train.py --config ./config/config_erfnet.yaml --export_dir <path-to-export-directory>"
   ]
  },
  {
   "cell_type": "markdown",
   "id": "29a358c7-508d-49cf-a277-50219bff3b83",
   "metadata": {},
   "source": [
    "从头开始训练的话会比较慢，因此可以尝试使用官方提供的预训练模型。ERFNet的下载链接为[ERFNet_Pretrained Model](https://www.ipb.uni-bonn.de/html/projects/phenobench/semantic_segmentation/semantic-seg-deeplab.ckpt).将下载得到的后缀为ckpt的文件导入工作目录，然后在训练时执行如下指令"
   ]
  },
  {
   "cell_type": "code",
   "execution_count": null,
   "id": "1384129f-1022-474f-a410-22e90c007868",
   "metadata": {},
   "outputs": [],
   "source": [
    "!python train.py --config ./config/config_erfnet.yaml --export_dir <path-to-export-directory> --ckpt_path /root/phenobench-baselines/semantic_segmentation/semantic-seg-erfnet.ckpt"
   ]
  },
  {
   "cell_type": "code",
   "execution_count": null,
   "id": "4c2a17cc-2c97-4672-a574-f04b7b3ec7b9",
   "metadata": {},
   "outputs": [],
   "source": [
    "可以发现，训练时初始loss就很小，且模型收敛相较于从头训练要快很多。我是在终端执行指令的，训练过程是可视化的，可以看到每一个epoch的训练进度。"
   ]
  },
  {
   "cell_type": "code",
   "execution_count": null,
   "id": "d65eb58f-cb1b-4505-b85a-d1db1a9099b2",
   "metadata": {},
   "outputs": [],
   "source": [
    "（待继续更新）"
   ]
  }
 ],
 "metadata": {
  "kernelspec": {
   "display_name": "Python 3 (ipykernel)",
   "language": "python",
   "name": "python3"
  },
  "language_info": {
   "codemirror_mode": {
    "name": "ipython",
    "version": 3
   },
   "file_extension": ".py",
   "mimetype": "text/x-python",
   "name": "python",
   "nbconvert_exporter": "python",
   "pygments_lexer": "ipython3",
   "version": "3.8.10"
  }
 },
 "nbformat": 4,
 "nbformat_minor": 5
}
